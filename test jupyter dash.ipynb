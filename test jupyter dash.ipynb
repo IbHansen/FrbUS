{
 "cells": [
  {
   "cell_type": "code",
   "execution_count": null,
   "id": "a0ff1d7c",
   "metadata": {},
   "outputs": [],
   "source": []
  },
  {
   "cell_type": "code",
   "execution_count": 6,
   "id": "d73a2138",
   "metadata": {},
   "outputs": [],
   "source": [
    "from jupyter_dash import JupyterDash\n",
    "import time\n",
    "\n",
    "from jupyter_dash.comms import _send_jupyter_config_comm_request"
   ]
  },
  {
   "cell_type": "code",
   "execution_count": 11,
   "id": "0e672203",
   "metadata": {},
   "outputs": [],
   "source": [
    "_send_jupyter_config_comm_request()"
   ]
  },
  {
   "cell_type": "code",
   "execution_count": 13,
   "id": "bf750493",
   "metadata": {},
   "outputs": [],
   "source": [
    "JupyterDash.infer_jupyter_proxy_config()\n"
   ]
  },
  {
   "cell_type": "code",
   "execution_count": 15,
   "id": "08ea3919",
   "metadata": {},
   "outputs": [
    {
     "data": {
      "text/plain": [
       "1635589974.2893877"
      ]
     },
     "execution_count": 15,
     "metadata": {},
     "output_type": "execute_result"
    }
   ],
   "source": [
    "time.time()"
   ]
  }
 ],
 "metadata": {
  "hide_input": false,
  "kernelspec": {
   "display_name": "Python 3 (ipykernel)",
   "language": "python",
   "name": "python3"
  },
  "language_info": {
   "codemirror_mode": {
    "name": "ipython",
    "version": 3
   },
   "file_extension": ".py",
   "mimetype": "text/x-python",
   "name": "python",
   "nbconvert_exporter": "python",
   "pygments_lexer": "ipython3",
   "version": "3.8.8"
  },
  "toc": {
   "base_numbering": 1,
   "nav_menu": {},
   "number_sections": true,
   "sideBar": true,
   "skip_h1_title": false,
   "title_cell": "Table of Contents",
   "title_sidebar": "Contents",
   "toc_cell": false,
   "toc_position": {},
   "toc_section_display": true,
   "toc_window_display": false
  }
 },
 "nbformat": 4,
 "nbformat_minor": 5
}
